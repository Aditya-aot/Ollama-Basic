{
 "cells": [
  {
   "cell_type": "code",
   "execution_count": 1,
   "id": "8cfced7a",
   "metadata": {},
   "outputs": [],
   "source": [
    "# pip install ollama"
   ]
  },
  {
   "cell_type": "markdown",
   "id": "de70939d",
   "metadata": {},
   "source": [
    "#  Mistral Model"
   ]
  },
  {
   "cell_type": "code",
   "execution_count": 1,
   "id": "15f76b9e",
   "metadata": {},
   "outputs": [],
   "source": [
    "import ollama\n",
    "import time"
   ]
  },
  {
   "cell_type": "code",
   "execution_count": 2,
   "id": "8ba4754d",
   "metadata": {},
   "outputs": [
    {
     "data": {
      "text/plain": [
       "{'status': 'success'}"
      ]
     },
     "execution_count": 2,
     "metadata": {},
     "output_type": "execute_result"
    }
   ],
   "source": [
    "ollama.pull('mistral')"
   ]
  },
  {
   "cell_type": "code",
   "execution_count": 3,
   "id": "c3eead1c",
   "metadata": {},
   "outputs": [
    {
     "data": {
      "text/plain": [
       "{'status': 'success'}"
      ]
     },
     "execution_count": 3,
     "metadata": {},
     "output_type": "execute_result"
    }
   ],
   "source": [
    "ollama.pull('llava')"
   ]
  },
  {
   "cell_type": "code",
   "execution_count": 5,
   "id": "9921d412",
   "metadata": {},
   "outputs": [
    {
     "name": "stdout",
     "output_type": "stream",
     "text": [
      " The color of the sky appears blue due to a process called scattering. In the Earth's atmosphere, there are gases and particles that can scatter sunlight in all directions. Blue light has a shorter wavelength than other colors in the visible spectrum, so it gets scattered more easily and in larger quantities. As a result, when we look up at the sky, we predominantly see the blue light that has been scattered, giving the sky its characteristic color.\n"
     ]
    }
   ],
   "source": [
    "import ollama\n",
    "response = ollama.chat(model='mistral', messages=[\n",
    "  {\n",
    "    'role': 'user',\n",
    "    'content': 'why is sky blue',\n",
    "  },\n",
    "])\n",
    "print(response['message']['content'])"
   ]
  },
  {
   "cell_type": "markdown",
   "id": "29a5e1cf",
   "metadata": {},
   "source": [
    "#  LLava Model"
   ]
  },
  {
   "cell_type": "code",
   "execution_count": 4,
   "id": "07236f2a",
   "metadata": {},
   "outputs": [],
   "source": [
    "with open('images/506838.jpg', 'rb') as f:\n",
    "    byte_im = f.read()"
   ]
  },
  {
   "cell_type": "code",
   "execution_count": 22,
   "id": "8be22f67",
   "metadata": {},
   "outputs": [
    {
     "name": "stdout",
     "output_type": "stream",
     "text": [
      " The image is a digital artwork or illustration that depicts a scenic mountainous landscape at either sunrise or sunset, given the warm hues of orange and purple in the sky. In the foreground, there's a large mountain peak with some trees scattered on it. A figure, possibly a person, stands on the edge of this peak, silhouetted against the light sky, looking out over the valley below.\n",
      "\n",
      "The valley itself is filled with rolling hills and meandering paths that seem to lead towards the mountains in the distance. The sun casts long shadows and creates a serene atmosphere. In the background, the landscape stretches out with more mountains on the horizon under a clear, starry sky.\n",
      "\n",
      "Below the mountain range, there is a low-lying area with various buildings that appear to be small towns or settlements. There's a hint of a bridge or road connecting different areas within this valley. The art style conveys a sense of tranquility and grandeur often associated with natural landscapes at sunrise or sunset. \n",
      "time taken : 2.8849061409632366\n"
     ]
    }
   ],
   "source": [
    "start = time.time()\n",
    "\n",
    "# --------------------------------------------------\n",
    "stream = ollama.generate(\n",
    "    model=\"llava\",\n",
    "    prompt=\"please describe what's in this image\",\n",
    "    images=[byte_im] ,\n",
    "    stream=True\n",
    ")\n",
    "\n",
    "for chunk in stream :\n",
    "    print(chunk['response'],end='')\n",
    "    \n",
    "# -----------------------------------------------------------------\n",
    "end = time.time()\n",
    "print(\"\")\n",
    "print(\"time taken :\",(end - start)/60)"
   ]
  },
  {
   "cell_type": "code",
   "execution_count": 23,
   "id": "3ea48301",
   "metadata": {},
   "outputs": [
    {
     "name": "stdout",
     "output_type": "stream",
     "text": [
      " The image depicts a serene landscape with the following colors:\n",
      "\n",
      "1. Blue - domination of the sky, which gives an atmosphere of calmness and tranquility.\n",
      "2. Orange - used for the sunset or sunrise, adding warmth to the scene.\n",
      "3. Green - seen in the foliage and vegetation, providing a natural and refreshing element.\n",
      "4. Brown - likely representing the earthy tones of rocks or tree trunks.\n",
      "5. Yellow - could be part of the sunset or sunrise gradient blending into the blue sky.\n",
      "\n",
      "The color palette is used to create a visually pleasing scene that suggests relaxation and the beauty of nature, particularly during sunrise or sunset. The combination of these colors helps to convey a peaceful and serene environment. \n",
      "time taken : 2.61172114610672\n"
     ]
    }
   ],
   "source": [
    "start = time.time()\n",
    "\n",
    "# -----------------------------------------------------------------\n",
    "stream = ollama.generate(\n",
    "    model=\"llava\",\n",
    "    prompt=\"please tell me colours used in this image and what for\",\n",
    "    images=[byte_im] ,\n",
    "    stream=True\n",
    ")\n",
    "\n",
    "for chunk in stream :\n",
    "    print(chunk['response'],end='')\n",
    "# -----------------------------------------------------------------   \n",
    "\n",
    "end = time.time()\n",
    "print(\"\")\n",
    "print(\"time taken :\",(end - start)/60)"
   ]
  },
  {
   "cell_type": "code",
   "execution_count": 24,
   "id": "151e7f68",
   "metadata": {},
   "outputs": [
    {
     "name": "stdout",
     "output_type": "stream",
     "text": [
      " The image depicts a serene landscape with mountains, a lake, and a picturesque sunset. It evokes a sense of tranquility and natural beauty. If you're looking for anime names that capture the essence of this scene or are related to nature, here are some suggestions:\n",
      "\n",
      "1. \"Akame Ga KILL!\" – A well-known anime about three high school girls who become vigilantes after their parents are murdered by a monster called an Asura. It has a strong natural theme and includes elements of the outdoors.\n",
      "2. \"Attack on Titan\" – This anime is set in a world where humanity lives inside cities surrounded by enormous walls to protect them from giants that roam the outside. The natural elements are quite prominent, especially the forests and mountains surrounding the human settlements.\n",
      "3. \"K-On!\" – A slice-of-life anime centered around a high school music club, focusing on the daily lives of four girls who are part of the club. While not as nature-focused as other options, it does feature some natural elements such as parks and flowers in its setting.\n",
      "4. \"Miyazaki Hayao\" – Although not an anime series itself, this name represents the acclaimed Japanese animator and film director whose works often celebrate the beauty of nature. Many of his films like \"My Neighbor Totoro,\" \"Spirited Away,\" and \"Princess Kaguya\" feature stunning natural landscapes.\n",
      "5. \"Terra Formars\" – This anime is set on Mars, where humans are trying to terraform the planet to make it habitable for human life. The series explores the challenges of turning a barren wasteland into a thriving ecosystem, which could be seen as a metaphor for the natural themes in this image.\n",
      "\n",
      "These suggestions might not directly relate to the landscape shown in the image but represent anime that feature nature or the environment as integral parts of their stories. \n",
      "\n",
      "time taken : 3.6311536749204\n"
     ]
    }
   ],
   "source": [
    "start = time.time()\n",
    "\n",
    "# -----------------------------------------------------------------\n",
    "res = ollama.chat(\n",
    "    model=\"llava\",\n",
    "    messages=[\n",
    "        {\n",
    "            'role': 'user',\n",
    "            'content': '\"please tell me some anime name which look similar to this image',\n",
    "            'images': [byte_im]\n",
    "        }\n",
    "    ]\n",
    ")\n",
    "print(res['message']['content'])\n",
    "# -----------------------------------------------------------------\n",
    "\n",
    "\n",
    "end = time.time()\n",
    "print(\"\")\n",
    "print(\"time taken :\",(end - start)/60)"
   ]
  },
  {
   "cell_type": "code",
   "execution_count": 25,
   "id": "ee66391a",
   "metadata": {},
   "outputs": [
    {
     "name": "stdout",
     "output_type": "stream",
     "text": [
      " Creating a digital artwork like the one shown in the image involves several steps. Here's a general guide to creating a similar piece using Adobe Photoshop:\n",
      "\n",
      "1. **Set up your workspace:** Start by setting up your workspace with the necessary tools and settings. You can use a template or create a blank canvas, depending on your preference.\n",
      "\n",
      "2. **Background:** Begin by painting a broad background. Use soft, grading colors to create an atmospheric effect. For this image, you can start with a deep blue sky.\n",
      "\n",
      "3. **Foreground:** Focus next on the foreground elements. This is where the rocky outcropping and trees will be placed. Use various shades of brown and green to add depth and texture.\n",
      "\n",
      "4. **Lighting:** Add lighting effects to enhance the realism of the scene. This includes creating highlights, shadows, and reflections to simulate how light behaves in natural environments.\n",
      "\n",
      "5. **Add textures:** To mimic the texture seen on the rocks and trees, use a combination of brush tools and textures found online or in your own image library. Apply these textures over the painted elements to give them more dimension and realism.\n",
      "\n",
      "6. **Details:** Add fine details like foliage, small plants, and cracks in the rocks using smaller brushes or pen tools. This step is crucial for bringing out the intricate details that make the scene feel more alive.\n",
      "\n",
      "7. **Color Correction:** Adjust the colors to ensure they are balanced and harmonious with each other. Use color grading techniques to create a specific mood, such as warm sunset tones like in this image.\n",
      "\n",
      "8. **Final Touches:** Add any final touches that might be needed, like adjusting contrast or brightness for visual impact. Also, consider adding a small watermark or signature if you wish to keep it as your own work.\n",
      "\n",
      "9. **Save and Share:** Once you're satisfied with the artwork, save it in your preferred format (like JPEG or PNG) and share it with others.\n",
      "\n",
      "Remember that these steps are general guidelines, and depending on your level of skill and the complexity of the image you're creating, some steps may be more involved than others. Each step can involve a great deal of artistic interpretation and decision-making based on the desired outcome. \n",
      "\n",
      "time taken : 4.1343555847803755\n"
     ]
    }
   ],
   "source": [
    "start = time.time()\n",
    "\n",
    "# -----------------------------------------------------------------\n",
    "res = ollama.chat(\n",
    "    model=\"llava\",\n",
    "    messages=[\n",
    "        {\n",
    "            'role': 'user',\n",
    "            'content': '\"please tell steps to make something like this in photoshop',\n",
    "            'images': [byte_im]\n",
    "        }\n",
    "    ]\n",
    ")\n",
    "\n",
    "print(res['message']['content'])\n",
    "# -----------------------------------------------------------------\n",
    "\n",
    "\n",
    "end = time.time()\n",
    "print(\"\")\n",
    "print(\"time taken :\",(end - start)/60)"
   ]
  },
  {
   "cell_type": "code",
   "execution_count": 10,
   "id": "c300f7ce",
   "metadata": {},
   "outputs": [],
   "source": [
    "with open('images/New Project.png', 'rb') as f:\n",
    "    byte_im2 = f.read()"
   ]
  },
  {
   "cell_type": "code",
   "execution_count": 17,
   "id": "57209816",
   "metadata": {},
   "outputs": [
    {
     "name": "stdout",
     "output_type": "stream",
     "text": [
      " I'm unable to provide a detailed reverse-engineering analysis of this image due to the constraints of my capabilities and the lack of information about how images are made. However, I can describe some general steps that might have been involved in creating a similar image:\n",
      "\n",
      "1. **Background Composition**: A photographer would typically start by choosing a background with interesting visual elements. In this case, it appears to be a scenic beach or coastline scene.\n",
      "\n",
      "2. **Subject Placement**: The subject, a person, is placed at the foreground of the image, which helps create depth and focus on them.\n",
      "\n",
      "3. **Lighting**: Natural lighting conditions are often preferred for outdoor photography to avoid artificial shadows and glare. In this photo, the lighting seems natural with soft shadows.\n",
      "\n",
      "4. **Composition Adjustments**: The photographer might have used a camera or smartphone with adjustable settings to ensure that the subject is in focus while the background is slightly blurred (bokeh effect). This helps draw attention to the person.\n",
      "\n",
      "5. **Subject Attire**: The person is wearing casual clothing, including a hat, t-shirt, and shorts, which suggests they are dressed for warm weather or a relaxed outing.\n",
      "\n",
      "6. **Camera Equipment**: A high-quality digital camera or smartphone with advanced photography capabilities might have been used to capture the image.\n",
      "\n",
      "7. **Post-Processing**: After taking the photo, it's common for photographers to use photo editing software to adjust brightness, contrast, saturation, and other parameters to enhance the overall appearance of the image.\n",
      "\n",
      "8. **Sharing or Printing**: The image could have been shared on social media or printed for personal use or as a professional photograph.\n",
      "\n",
      "Remember, without additional context or information about the camera settings and post-processing applied, this is a high-level overview of the general steps involved in creating such an image. \n",
      "\n",
      "time taken : 2.1459885319073995\n"
     ]
    }
   ],
   "source": [
    "start = time.time()\n",
    "# -----------------------------------------------------------------\n",
    "res = ollama.chat(\n",
    "    model=\"llava\",\n",
    "    messages=[\n",
    "        {\n",
    "            'role': 'user',\n",
    "            'content': \"can you reverse engineer this image as how it was made\",\n",
    "            'images': [byte_im2]\n",
    "        }\n",
    "    ]\n",
    ")\n",
    "print(res['message']['content'])\n",
    "# -----------------------------------------------------------------\n",
    "end = time.time()\n",
    "print(\"\")\n",
    "print(\"time taken :\",(end - start)/60)"
   ]
  },
  {
   "cell_type": "code",
   "execution_count": null,
   "id": "e419e01e",
   "metadata": {},
   "outputs": [],
   "source": []
  }
 ],
 "metadata": {
  "kernelspec": {
   "display_name": "Python 3 (ipykernel)",
   "language": "python",
   "name": "python3"
  },
  "language_info": {
   "codemirror_mode": {
    "name": "ipython",
    "version": 3
   },
   "file_extension": ".py",
   "mimetype": "text/x-python",
   "name": "python",
   "nbconvert_exporter": "python",
   "pygments_lexer": "ipython3",
   "version": "3.11.2"
  }
 },
 "nbformat": 4,
 "nbformat_minor": 5
}
